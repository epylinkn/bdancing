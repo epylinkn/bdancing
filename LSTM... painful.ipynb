{
 "cells": [
  {
   "cell_type": "code",
   "execution_count": 74,
   "metadata": {},
   "outputs": [
    {
     "name": "stdout",
     "output_type": "stream",
     "text": [
      "Requirement already satisfied: keras in /anaconda3/lib/python3.6/site-packages (2.2.4)\n",
      "Requirement already satisfied: six>=1.9.0 in /anaconda3/lib/python3.6/site-packages (from keras) (1.11.0)\n",
      "Requirement already satisfied: pyyaml in /anaconda3/lib/python3.6/site-packages (from keras) (3.12)\n",
      "Requirement already satisfied: scipy>=0.14 in /anaconda3/lib/python3.6/site-packages (from keras) (1.1.0)\n",
      "Requirement already satisfied: numpy>=1.9.1 in /anaconda3/lib/python3.6/site-packages (from keras) (1.14.3)\n",
      "Requirement already satisfied: keras-preprocessing>=1.0.5 in /anaconda3/lib/python3.6/site-packages (from keras) (1.0.5)\n",
      "Requirement already satisfied: keras-applications>=1.0.6 in /anaconda3/lib/python3.6/site-packages (from keras) (1.0.6)\n",
      "Requirement already satisfied: h5py in /anaconda3/lib/python3.6/site-packages (from keras) (2.7.1)\n",
      "\u001b[31mdistributed 1.21.8 requires msgpack, which is not installed.\u001b[0m\n",
      "\u001b[33mYou are using pip version 10.0.1, however version 18.1 is available.\n",
      "You should consider upgrading via the 'pip install --upgrade pip' command.\u001b[0m\n"
     ]
    }
   ],
   "source": [
    "!pip install keras\n",
    "\n",
    "import math\n",
    "import os\n",
    "import re\n",
    "\n",
    "import matplotlib.pyplot as plt\n",
    "import numpy as np\n",
    "import pandas as pd\n",
    "\n",
    "from keras.models import Sequential\n",
    "from keras.layers import Dense\n",
    "from keras.layers import LSTM\n",
    "from keras.layers import Flatten\n",
    "\n",
    "from sklearn.model_selection import train_test_split\n"
   ]
  },
  {
   "cell_type": "markdown",
   "metadata": {},
   "source": [
    "## Load Cleaned Data"
   ]
  },
  {
   "cell_type": "code",
   "execution_count": 40,
   "metadata": {
    "scrolled": true
   },
   "outputs": [
    {
     "name": "stdout",
     "output_type": "stream",
     "text": [
      "Index(['Unnamed: 0', 'p1/head:tx', 'p1/head:ty', 'p1/head:tz', 'p1/hand_l:tx',\n",
      "       'p1/hand_l:ty', 'p1/hand_l:tz', 'p1/hand_r:tx', 'p1/hand_r:ty',\n",
      "       'p1/hand_r:tz', 'p1/foot_l:tx', 'p1/foot_l:ty', 'p1/foot_l:tz',\n",
      "       'p1/foot_r:tx', 'p1/foot_r:ty', 'p1/foot_r:tz', 'p1/hip_l:tx',\n",
      "       'p1/hip_l:ty', 'p1/hip_l:tz', 'p1/hip_r:tx', 'p1/hip_r:ty',\n",
      "       'p1/hip_r:tz', 'p1/shoulder_l:tx', 'p1/shoulder_l:ty',\n",
      "       'p1/shoulder_l:tz', 'p1/shoulder_r:tx', 'p1/shoulder_r:ty',\n",
      "       'p1/shoulder_r:tz', 'p1/shoulder_c:tx', 'p1/shoulder_c:ty',\n",
      "       'p1/shoulder_c:tz', 'p1/knee_l:tx', 'p1/knee_l:ty', 'p1/knee_l:tz',\n",
      "       'p1/knee_r:tx', 'p1/knee_r:ty', 'p1/knee_r:tz', 'p1/elbow_l:tx',\n",
      "       'p1/elbow_l:ty', 'p1/elbow_l:tz', 'p1/elbow_r:tx', 'p1/elbow_r:ty',\n",
      "       'p1/elbow_r:tz', 'p1/head:dx', 'p1/head:dy', 'p1/head:dz',\n",
      "       'p1/hand_l:dx', 'p1/hand_l:dy', 'p1/hand_l:dz', 'p1/hand_r:dx',\n",
      "       'p1/hand_r:dy', 'p1/hand_r:dz', 'p1/foot_l:dx', 'p1/foot_l:dy',\n",
      "       'p1/foot_l:dz', 'p1/foot_r:dx', 'p1/foot_r:dy', 'p1/foot_r:dz',\n",
      "       'p1/hip_l:dx', 'p1/hip_l:dy', 'p1/hip_l:dz', 'p1/hip_r:dx',\n",
      "       'p1/hip_r:dy', 'p1/hip_r:dz', 'p1/shoulder_l:dx', 'p1/shoulder_l:dy',\n",
      "       'p1/shoulder_l:dz', 'p1/shoulder_r:dx', 'p1/shoulder_r:dy',\n",
      "       'p1/shoulder_r:dz', 'p1/shoulder_c:dx', 'p1/shoulder_c:dy',\n",
      "       'p1/shoulder_c:dz', 'p1/knee_l:dx', 'p1/knee_l:dy', 'p1/knee_l:dz',\n",
      "       'p1/knee_r:dx', 'p1/knee_r:dy', 'p1/knee_r:dz', 'p1/elbow_l:dx',\n",
      "       'p1/elbow_l:dy', 'p1/elbow_l:dz', 'p1/elbow_r:dx', 'p1/elbow_r:dy',\n",
      "       'p1/elbow_r:dz', 'classification'],\n",
      "      dtype='object')\n"
     ]
    }
   ],
   "source": [
    "data = pd.read_csv(\"cleaned_data.csv\", sep=\",\")\n",
    "\n",
    "columns = data.columns\n",
    "\n",
    "print(data.columns)"
   ]
  },
  {
   "cell_type": "code",
   "execution_count": 41,
   "metadata": {},
   "outputs": [],
   "source": [
    "# Normalize\n",
    "from sklearn.preprocessing import MinMaxScaler\n",
    "\n",
    "dataset = data.values\n",
    "dataset = dataset.astype('float32')\n",
    "scaler = MinMaxScaler(feature_range=(0, 1))\n",
    "dataset = scaler.fit_transform(dataset)"
   ]
  },
  {
   "cell_type": "code",
   "execution_count": 45,
   "metadata": {},
   "outputs": [
    {
     "name": "stdout",
     "output_type": "stream",
     "text": [
      "200\n"
     ]
    }
   ],
   "source": [
    "datasets_split = np.split(np.array(dataset), 23)\n",
    "\n",
    "print(len(datasets_split[0]))"
   ]
  },
  {
   "cell_type": "code",
   "execution_count": 86,
   "metadata": {
    "scrolled": true
   },
   "outputs": [
    {
     "name": "stdout",
     "output_type": "stream",
     "text": [
      "[[1.0, 0.0], [1.0, 0.0], [1.0, 0.0], [1.0, 0.0], [1.0, 0.0], [1.0, 0.0], [1.0, 0.0], [1.0, 0.0], [1.0, 0.0], [1.0, 0.0], [1.0, 0.0], [0.0, 1.0], [0.0, 1.0], [0.0, 1.0], [0.0, 1.0], [0.0, 1.0], [0.0, 1.0], [0.0, 1.0], [0.0, 1.0], [0.0, 1.0], [0.0, 1.0], [0.0, 1.0], [0.0, 1.0]]\n",
      "200\n",
      "42\n",
      "[0.62871313 0.36946708 0.5736951  0.59707475 0.35386896 0.4380762\n",
      " 0.37094203 0.34215742 0.40209943 0.6373383  0.44952083 0.40437236\n",
      " 0.46741185 0.45592755 0.47824284 0.46967116 0.50029474 0.5601061\n",
      " 0.49721682 0.36157554 0.5602745  0.39169955 0.4026038  0.50698006\n",
      " 0.5636982  0.29688847 0.54138064 0.6532098  0.38921413 0.57773304\n",
      " 0.5262114  0.50660866 0.557436   0.41649243 0.43784288 0.54650044\n",
      " 0.5827864  0.59531236 0.36655694 0.6909118  0.31066352 0.5810995 ]\n"
     ]
    }
   ],
   "source": [
    "# Create proper datasets for each individual's sample\n",
    "xs, ys = [], []\n",
    "\n",
    "def add_to_dataset(frames):\n",
    "    classification = frames[0][-1]\n",
    "    if classification == 1.0:\n",
    "        ys.append([1.0, 0.0])\n",
    "    else:\n",
    "        ys.append([0.0, 1.0])\n",
    "    \n",
    "    velocities = []\n",
    "    for row in frames:\n",
    "        velocities.append(row[-44:-2])\n",
    "        \n",
    "    xs.append(velocities)\n",
    "\n",
    "\n",
    "# create the dataset\n",
    "for frames in datasets_split:\n",
    "    add_to_dataset(frames)\n",
    "\n",
    "\n",
    "print(ys)\n",
    "print(len(xs[0]))\n",
    "print(len(xs[0][0]))\n",
    "print(xs[0][0])"
   ]
  },
  {
   "cell_type": "code",
   "execution_count": 55,
   "metadata": {},
   "outputs": [],
   "source": [
    "# TODO: split into train and test..."
   ]
  },
  {
   "cell_type": "markdown",
   "metadata": {},
   "source": [
    "## Train"
   ]
  },
  {
   "cell_type": "code",
   "execution_count": 93,
   "metadata": {},
   "outputs": [
    {
     "name": "stdout",
     "output_type": "stream",
     "text": [
      "<class 'numpy.ndarray'>\n",
      "(23, 2)\n",
      "(100, 2)\n",
      "[[1. 0.]\n",
      " [1. 0.]\n",
      " [1. 0.]\n",
      " [1. 0.]\n",
      " [1. 0.]\n",
      " [1. 0.]\n",
      " [1. 0.]\n",
      " [1. 0.]\n",
      " [1. 0.]\n",
      " [1. 0.]\n",
      " [1. 0.]\n",
      " [0. 1.]\n",
      " [0. 1.]\n",
      " [0. 1.]\n",
      " [0. 1.]\n",
      " [0. 1.]\n",
      " [0. 1.]\n",
      " [0. 1.]\n",
      " [0. 1.]\n",
      " [0. 1.]\n",
      " [0. 1.]\n",
      " [0. 1.]\n",
      " [0. 1.]]\n",
      "(23, 200, 42)\n",
      "(100, 200, 42)\n"
     ]
    }
   ],
   "source": [
    "# reshape input to be [samples, timesteps, features]\n",
    "x_train = np.array(xs)\n",
    "y_train = np.array(ys)\n",
    "\n",
    "fakex_train = np.random.random((100, timesteps, data_dim))\n",
    "fakey_train = np.random.random((100, num_classes))\n",
    "\n",
    "print(type(y_train))\n",
    "\n",
    "print(y_train.shape)\n",
    "print(fakey_train.shape)\n",
    "print(y_train)\n",
    "print(x_train.shape)\n",
    "print(fakex_train.shape)\n"
   ]
  },
  {
   "cell_type": "code",
   "execution_count": 96,
   "metadata": {},
   "outputs": [
    {
     "name": "stdout",
     "output_type": "stream",
     "text": [
      "Epoch 1/10\n",
      "23/23 [==============================] - 10s 418ms/step - loss: 0.7184 - acc: 0.4783\n",
      "Epoch 2/10\n",
      "23/23 [==============================] - 5s 223ms/step - loss: 0.6913 - acc: 0.5217\n",
      "Epoch 3/10\n",
      "23/23 [==============================] - 5s 223ms/step - loss: 0.6902 - acc: 0.4783\n",
      "Epoch 4/10\n",
      "23/23 [==============================] - 5s 232ms/step - loss: 0.6957 - acc: 0.4783\n",
      "Epoch 5/10\n",
      "23/23 [==============================] - 5s 222ms/step - loss: 0.6913 - acc: 0.5217\n",
      "Epoch 6/10\n",
      "23/23 [==============================] - 6s 244ms/step - loss: 0.6893 - acc: 0.5217\n",
      "Epoch 7/10\n",
      "23/23 [==============================] - 5s 225ms/step - loss: 0.6936 - acc: 0.5217\n",
      "Epoch 8/10\n",
      "23/23 [==============================] - 5s 221ms/step - loss: 0.6875 - acc: 0.5217\n",
      "Epoch 9/10\n",
      "23/23 [==============================] - 5s 228ms/step - loss: 0.6863 - acc: 0.6087\n",
      "Epoch 10/10\n",
      "23/23 [==============================] - 5s 225ms/step - loss: 0.6858 - acc: 0.5217\n"
     ]
    },
    {
     "data": {
      "text/plain": [
       "<keras.callbacks.History at 0x1a2dcede80>"
      ]
     },
     "execution_count": 96,
     "metadata": {},
     "output_type": "execute_result"
    }
   ],
   "source": [
    "data_dim = 42\n",
    "timesteps = 200\n",
    "num_classes = 2\n",
    "\n",
    "# expected input data shape: (batch_size, timesteps, data_dim)\n",
    "model = Sequential()\n",
    "model.add(LSTM(32, return_sequences=True,\n",
    "               input_shape=(timesteps, data_dim)))  # returns a sequence of vectors of dimension 42\n",
    "model.add(LSTM(32, return_sequences=True))  # returns a sequence of vectors of dimension 32\n",
    "model.add(LSTM(32))  # return a single vector of dimension 32\n",
    "model.add(Dense(2, activation='softmax'))\n",
    "\n",
    "model.compile(loss='categorical_crossentropy',\n",
    "              optimizer='adam',\n",
    "              metrics=['accuracy'])\n",
    "\n",
    "model.fit(x_train, y_train,\n",
    "          batch_size=3, epochs=10)\n",
    "\n",
    "\n",
    "# model.predict(x_test)"
   ]
  },
  {
   "cell_type": "code",
   "execution_count": 97,
   "metadata": {},
   "outputs": [
    {
     "data": {
      "text/plain": [
       "array([[0.48443928, 0.5155606 ],\n",
       "       [0.48224613, 0.51775384],\n",
       "       [0.48893583, 0.5110642 ],\n",
       "       [0.4826293 , 0.5173707 ],\n",
       "       [0.44891062, 0.55108935],\n",
       "       [0.49425253, 0.50574744],\n",
       "       [0.47287473, 0.52712524],\n",
       "       [0.49062234, 0.50937766],\n",
       "       [0.4691325 , 0.53086746],\n",
       "       [0.47541767, 0.5245824 ],\n",
       "       [0.49243382, 0.50756615],\n",
       "       [0.42587626, 0.57412374],\n",
       "       [0.44929534, 0.55070466],\n",
       "       [0.50357366, 0.49642634],\n",
       "       [0.48033652, 0.51966345],\n",
       "       [0.4515187 , 0.5484812 ],\n",
       "       [0.4908459 , 0.50915414],\n",
       "       [0.43472576, 0.56527424],\n",
       "       [0.4599356 , 0.54006433],\n",
       "       [0.4632047 , 0.5367953 ],\n",
       "       [0.4712061 , 0.52879393],\n",
       "       [0.47320852, 0.5267915 ],\n",
       "       [0.47662145, 0.52337855]], dtype=float32)"
      ]
     },
     "execution_count": 97,
     "metadata": {},
     "output_type": "execute_result"
    }
   ],
   "source": [
    "model.predict(x_train)"
   ]
  },
  {
   "cell_type": "markdown",
   "metadata": {},
   "source": [
    "## Another attempt at sequence classification with LSTM: (binary-crossentropy?)\n"
   ]
  },
  {
   "cell_type": "code",
   "execution_count": 102,
   "metadata": {},
   "outputs": [
    {
     "name": "stdout",
     "output_type": "stream",
     "text": [
      "Epoch 1/10\n",
      "23/23 [==============================] - 6s 263ms/step - loss: 0.7610 - acc: 0.4783\n",
      "Epoch 2/10\n",
      "23/23 [==============================] - 2s 91ms/step - loss: 0.7190 - acc: 0.5000\n",
      "Epoch 3/10\n",
      "23/23 [==============================] - 2s 89ms/step - loss: 0.6745 - acc: 0.6304\n",
      "Epoch 4/10\n",
      "23/23 [==============================] - 2s 92ms/step - loss: 0.6796 - acc: 0.5435\n",
      "Epoch 5/10\n",
      "23/23 [==============================] - 2s 86ms/step - loss: 0.7164 - acc: 0.4783\n",
      "Epoch 6/10\n",
      "23/23 [==============================] - 2s 75ms/step - loss: 0.7201 - acc: 0.5217\n",
      "Epoch 7/10\n",
      "23/23 [==============================] - 2s 75ms/step - loss: 0.7331 - acc: 0.4783\n",
      "Epoch 8/10\n",
      "23/23 [==============================] - 2s 76ms/step - loss: 0.6500 - acc: 0.6957\n",
      "Epoch 9/10\n",
      "23/23 [==============================] - 2s 88ms/step - loss: 0.6858 - acc: 0.6087\n",
      "Epoch 10/10\n",
      "23/23 [==============================] - 2s 74ms/step - loss: 0.7457 - acc: 0.3696\n"
     ]
    },
    {
     "data": {
      "text/plain": [
       "<keras.callbacks.History at 0x1a323f0c88>"
      ]
     },
     "execution_count": 102,
     "metadata": {},
     "output_type": "execute_result"
    }
   ],
   "source": [
    "from keras.models import Sequential\n",
    "from keras.layers import Dense, Dropout\n",
    "from keras.layers import Embedding\n",
    "from keras.layers import LSTM\n",
    "\n",
    "max_features = 1024\n",
    "\n",
    "model = Sequential()\n",
    "model.add(LSTM(128, input_shape=(timesteps, data_dim)))  # returns a sequence of vectors of dimension 42\n",
    "model.add(Dropout(0.5))\n",
    "model.add(Dense(2, activation='sigmoid'))\n",
    "\n",
    "model.compile(loss='binary_crossentropy',\n",
    "              optimizer='rmsprop',\n",
    "              metrics=['accuracy'])\n",
    "\n",
    "model.fit(x_train, y_train, batch_size=16, epochs=10)\n",
    "# score = model.evaluate(x_test, y_test, batch_size=16)"
   ]
  },
  {
   "cell_type": "code",
   "execution_count": 105,
   "metadata": {},
   "outputs": [
    {
     "data": {
      "text/plain": [
       "array([[0.57443154, 0.46600696],\n",
       "       [0.5688721 , 0.46644348],\n",
       "       [0.57233405, 0.4652578 ],\n",
       "       [0.5743616 , 0.46577564],\n",
       "       [0.56688404, 0.46985695],\n",
       "       [0.5766037 , 0.4629998 ],\n",
       "       [0.57338226, 0.46404663],\n",
       "       [0.574982  , 0.46421918],\n",
       "       [0.5715662 , 0.46870497],\n",
       "       [0.5684801 , 0.46452418],\n",
       "       [0.577626  , 0.46401316],\n",
       "       [0.5569087 , 0.473774  ],\n",
       "       [0.5665229 , 0.4684041 ],\n",
       "       [0.58088815, 0.46124077],\n",
       "       [0.5698734 , 0.46488866],\n",
       "       [0.56363624, 0.46993223],\n",
       "       [0.57493204, 0.46398753],\n",
       "       [0.5616182 , 0.47042862],\n",
       "       [0.568425  , 0.4673265 ],\n",
       "       [0.5678428 , 0.46983978],\n",
       "       [0.5703074 , 0.46787316],\n",
       "       [0.5725456 , 0.4676943 ],\n",
       "       [0.57270354, 0.46331975]], dtype=float32)"
      ]
     },
     "execution_count": 105,
     "metadata": {},
     "output_type": "execute_result"
    }
   ],
   "source": [
    "model.predict(x_train)"
   ]
  },
  {
   "cell_type": "code",
   "execution_count": 104,
   "metadata": {},
   "outputs": [
    {
     "name": "stdout",
     "output_type": "stream",
     "text": [
      "23/23 [==============================] - 1s 30ms/step\n",
      "[0.701069712638855, 0.4782608695652174]\n"
     ]
    }
   ],
   "source": [
    "score = model.evaluate(x_train, y_train, batch_size=16)\n",
    "\n",
    "print(score)"
   ]
  },
  {
   "cell_type": "code",
   "execution_count": 109,
   "metadata": {},
   "outputs": [],
   "source": [
    "from keras import utils\n",
    "xt = np.random.random((100, 100, 100, 3))\n",
    "yt = utils.to_categorical(np.random.randint(10, size=(100, 1)), num_classes=10)"
   ]
  },
  {
   "cell_type": "code",
   "execution_count": 111,
   "metadata": {},
   "outputs": [
    {
     "data": {
      "text/plain": [
       "(100, 100, 100, 3)"
      ]
     },
     "execution_count": 111,
     "metadata": {},
     "output_type": "execute_result"
    }
   ],
   "source": [
    "xt.shape"
   ]
  },
  {
   "cell_type": "code",
   "execution_count": 118,
   "metadata": {},
   "outputs": [
    {
     "data": {
      "text/plain": [
       "array([[0., 0., 0., 0., 0., 0., 0., 0., 1., 0.],\n",
       "       [0., 0., 0., 0., 0., 1., 0., 0., 0., 0.],\n",
       "       [0., 0., 0., 0., 0., 0., 1., 0., 0., 0.],\n",
       "       [0., 0., 1., 0., 0., 0., 0., 0., 0., 0.],\n",
       "       [0., 0., 0., 0., 0., 1., 0., 0., 0., 0.],\n",
       "       [0., 0., 0., 0., 0., 0., 0., 0., 0., 1.],\n",
       "       [1., 0., 0., 0., 0., 0., 0., 0., 0., 0.],\n",
       "       [0., 0., 0., 0., 0., 0., 0., 0., 1., 0.],\n",
       "       [0., 0., 0., 0., 0., 0., 0., 1., 0., 0.],\n",
       "       [1., 0., 0., 0., 0., 0., 0., 0., 0., 0.],\n",
       "       [0., 0., 1., 0., 0., 0., 0., 0., 0., 0.],\n",
       "       [0., 0., 1., 0., 0., 0., 0., 0., 0., 0.],\n",
       "       [0., 1., 0., 0., 0., 0., 0., 0., 0., 0.],\n",
       "       [0., 0., 0., 0., 1., 0., 0., 0., 0., 0.],\n",
       "       [0., 0., 0., 1., 0., 0., 0., 0., 0., 0.],\n",
       "       [1., 0., 0., 0., 0., 0., 0., 0., 0., 0.],\n",
       "       [0., 0., 0., 0., 1., 0., 0., 0., 0., 0.],\n",
       "       [0., 1., 0., 0., 0., 0., 0., 0., 0., 0.],\n",
       "       [0., 1., 0., 0., 0., 0., 0., 0., 0., 0.],\n",
       "       [1., 0., 0., 0., 0., 0., 0., 0., 0., 0.],\n",
       "       [0., 0., 0., 0., 0., 1., 0., 0., 0., 0.],\n",
       "       [0., 1., 0., 0., 0., 0., 0., 0., 0., 0.],\n",
       "       [0., 0., 0., 1., 0., 0., 0., 0., 0., 0.],\n",
       "       [0., 0., 0., 0., 0., 0., 0., 0., 1., 0.],\n",
       "       [0., 0., 0., 0., 0., 0., 0., 0., 0., 1.],\n",
       "       [0., 0., 0., 0., 0., 0., 1., 0., 0., 0.],\n",
       "       [1., 0., 0., 0., 0., 0., 0., 0., 0., 0.],\n",
       "       [1., 0., 0., 0., 0., 0., 0., 0., 0., 0.],\n",
       "       [0., 0., 0., 0., 0., 0., 1., 0., 0., 0.],\n",
       "       [0., 1., 0., 0., 0., 0., 0., 0., 0., 0.],\n",
       "       [0., 0., 0., 0., 0., 1., 0., 0., 0., 0.],\n",
       "       [0., 0., 0., 0., 1., 0., 0., 0., 0., 0.],\n",
       "       [0., 0., 0., 0., 0., 0., 0., 0., 0., 1.],\n",
       "       [0., 0., 0., 0., 0., 0., 0., 0., 0., 1.],\n",
       "       [0., 0., 0., 0., 0., 0., 0., 0., 1., 0.],\n",
       "       [1., 0., 0., 0., 0., 0., 0., 0., 0., 0.],\n",
       "       [1., 0., 0., 0., 0., 0., 0., 0., 0., 0.],\n",
       "       [0., 0., 0., 1., 0., 0., 0., 0., 0., 0.],\n",
       "       [0., 0., 1., 0., 0., 0., 0., 0., 0., 0.],\n",
       "       [0., 0., 0., 0., 0., 0., 0., 0., 1., 0.],\n",
       "       [0., 0., 0., 1., 0., 0., 0., 0., 0., 0.],\n",
       "       [0., 0., 0., 0., 0., 0., 0., 0., 0., 1.],\n",
       "       [0., 0., 0., 0., 0., 0., 0., 0., 1., 0.],\n",
       "       [0., 0., 0., 0., 0., 1., 0., 0., 0., 0.],\n",
       "       [0., 0., 0., 1., 0., 0., 0., 0., 0., 0.],\n",
       "       [0., 0., 0., 0., 0., 0., 0., 0., 1., 0.],\n",
       "       [0., 0., 0., 0., 1., 0., 0., 0., 0., 0.],\n",
       "       [0., 0., 0., 0., 1., 0., 0., 0., 0., 0.],\n",
       "       [0., 0., 0., 0., 1., 0., 0., 0., 0., 0.],\n",
       "       [1., 0., 0., 0., 0., 0., 0., 0., 0., 0.],\n",
       "       [0., 0., 1., 0., 0., 0., 0., 0., 0., 0.],\n",
       "       [0., 0., 0., 0., 0., 0., 1., 0., 0., 0.],\n",
       "       [0., 1., 0., 0., 0., 0., 0., 0., 0., 0.],\n",
       "       [1., 0., 0., 0., 0., 0., 0., 0., 0., 0.],\n",
       "       [1., 0., 0., 0., 0., 0., 0., 0., 0., 0.],\n",
       "       [1., 0., 0., 0., 0., 0., 0., 0., 0., 0.],\n",
       "       [0., 0., 1., 0., 0., 0., 0., 0., 0., 0.],\n",
       "       [0., 0., 0., 0., 0., 0., 0., 0., 0., 1.],\n",
       "       [0., 0., 0., 0., 0., 1., 0., 0., 0., 0.],\n",
       "       [0., 0., 0., 0., 0., 0., 0., 1., 0., 0.],\n",
       "       [1., 0., 0., 0., 0., 0., 0., 0., 0., 0.],\n",
       "       [0., 0., 0., 0., 0., 0., 1., 0., 0., 0.],\n",
       "       [0., 0., 0., 0., 0., 0., 1., 0., 0., 0.],\n",
       "       [0., 0., 0., 0., 0., 0., 0., 0., 0., 1.],\n",
       "       [0., 0., 0., 0., 0., 0., 0., 0., 1., 0.],\n",
       "       [0., 0., 0., 0., 0., 1., 0., 0., 0., 0.],\n",
       "       [0., 0., 0., 0., 0., 1., 0., 0., 0., 0.],\n",
       "       [0., 0., 0., 1., 0., 0., 0., 0., 0., 0.],\n",
       "       [0., 0., 0., 0., 1., 0., 0., 0., 0., 0.],\n",
       "       [0., 0., 0., 1., 0., 0., 0., 0., 0., 0.],\n",
       "       [0., 0., 0., 0., 1., 0., 0., 0., 0., 0.],\n",
       "       [0., 0., 0., 0., 1., 0., 0., 0., 0., 0.],\n",
       "       [0., 0., 1., 0., 0., 0., 0., 0., 0., 0.],\n",
       "       [0., 0., 1., 0., 0., 0., 0., 0., 0., 0.],\n",
       "       [0., 0., 0., 0., 1., 0., 0., 0., 0., 0.],\n",
       "       [0., 0., 0., 0., 0., 0., 0., 1., 0., 0.],\n",
       "       [0., 0., 1., 0., 0., 0., 0., 0., 0., 0.],\n",
       "       [0., 0., 0., 0., 0., 1., 0., 0., 0., 0.],\n",
       "       [0., 0., 1., 0., 0., 0., 0., 0., 0., 0.],\n",
       "       [0., 0., 0., 0., 1., 0., 0., 0., 0., 0.],\n",
       "       [0., 0., 0., 1., 0., 0., 0., 0., 0., 0.],\n",
       "       [1., 0., 0., 0., 0., 0., 0., 0., 0., 0.],\n",
       "       [0., 0., 0., 0., 0., 0., 1., 0., 0., 0.],\n",
       "       [0., 0., 0., 0., 1., 0., 0., 0., 0., 0.],\n",
       "       [0., 1., 0., 0., 0., 0., 0., 0., 0., 0.],\n",
       "       [0., 0., 0., 0., 0., 0., 0., 0., 0., 1.],\n",
       "       [0., 0., 0., 0., 0., 0., 0., 0., 1., 0.],\n",
       "       [0., 0., 0., 0., 0., 1., 0., 0., 0., 0.],\n",
       "       [0., 0., 0., 0., 0., 0., 0., 1., 0., 0.],\n",
       "       [0., 0., 0., 0., 0., 0., 1., 0., 0., 0.],\n",
       "       [0., 0., 0., 0., 1., 0., 0., 0., 0., 0.],\n",
       "       [0., 0., 0., 0., 0., 1., 0., 0., 0., 0.],\n",
       "       [0., 0., 0., 1., 0., 0., 0., 0., 0., 0.],\n",
       "       [0., 0., 0., 0., 0., 0., 0., 0., 0., 1.],\n",
       "       [0., 0., 0., 0., 0., 1., 0., 0., 0., 0.],\n",
       "       [0., 0., 0., 0., 0., 0., 1., 0., 0., 0.],\n",
       "       [0., 0., 0., 0., 0., 0., 1., 0., 0., 0.],\n",
       "       [0., 0., 0., 0., 0., 1., 0., 0., 0., 0.],\n",
       "       [0., 0., 0., 0., 0., 0., 0., 0., 1., 0.],\n",
       "       [0., 0., 0., 0., 0., 0., 1., 0., 0., 0.]], dtype=float32)"
      ]
     },
     "execution_count": 118,
     "metadata": {},
     "output_type": "execute_result"
    }
   ],
   "source": [
    "yt"
   ]
  }
 ],
 "metadata": {
  "kernelspec": {
   "display_name": "Python 3",
   "language": "python",
   "name": "python3"
  },
  "language_info": {
   "codemirror_mode": {
    "name": "ipython",
    "version": 3
   },
   "file_extension": ".py",
   "mimetype": "text/x-python",
   "name": "python",
   "nbconvert_exporter": "python",
   "pygments_lexer": "ipython3",
   "version": "3.6.5"
  }
 },
 "nbformat": 4,
 "nbformat_minor": 2
}
